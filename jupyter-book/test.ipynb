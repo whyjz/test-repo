{
 "cells": [
  {
   "cell_type": "markdown",
   "id": "ef43deb5-b183-40d1-af3c-f4333e20bc09",
   "metadata": {},
   "source": [
    "# This is a title\n",
    "\n",
    "(target)=\n",
    "## Section 1\n",
    "\n",
    "![CSRSR](https://whyjz.github.io/ncu-open-science/_static/csrsr_logo.png)\n",
    "\n",
    "## Section 2\n",
    "\n",
    "$ P = \\epsilon \\sigma A T^4 $\n",
    "\n",
    "### Section 2.1\n",
    "\n",
    "```python\n",
    "#### This sample code was auto-generated using Bing's ChatGPT AI (GPT-4).\n",
    "\n",
    "import numpy as np\n",
    "from scipy import optimize\n",
    "\n",
    "# Define the function that we want to fit\n",
    "def test_func(x, a, b):\n",
    "    return a * np.sin(b * x)\n",
    "\n",
    "# Generate some data with noise to fit\n",
    "x_data = np.linspace(0, 4 * np.pi, 100)\n",
    "y_data = 3.0 * np.sin(1.5 * x_data) + 0.5 * np.random.normal(size=100)\n",
    "\n",
    "# Fit the data with the function\n",
    "params, params_covariance = optimize.curve_fit(test_func, x_data, y_data, p0=[2, 2])\n",
    "\n",
    "# Print the results\n",
    "print(params)\n",
    "```\n",
    "\n",
    "This is a [link](target). Done!"
   ]
  },
  {
   "cell_type": "code",
   "execution_count": null,
   "id": "01780f1c-2ed1-4da8-9ec4-bdc9ef3c2c73",
   "metadata": {},
   "outputs": [],
   "source": []
  },
  {
   "cell_type": "code",
   "execution_count": null,
   "id": "14700ad5-b58f-4b05-bcb4-2b4ab266cb20",
   "metadata": {},
   "outputs": [],
   "source": []
  },
  {
   "cell_type": "code",
   "execution_count": null,
   "id": "19e738ad-575b-4e8c-b3de-1eeef64bd809",
   "metadata": {},
   "outputs": [],
   "source": []
  }
 ],
 "metadata": {
  "kernelspec": {
   "display_name": "Python 3 (ipykernel)",
   "language": "python",
   "name": "python3"
  },
  "language_info": {
   "codemirror_mode": {
    "name": "ipython",
    "version": 3
   },
   "file_extension": ".py",
   "mimetype": "text/x-python",
   "name": "python",
   "nbconvert_exporter": "python",
   "pygments_lexer": "ipython3",
   "version": "3.10.8"
  }
 },
 "nbformat": 4,
 "nbformat_minor": 5
}
